{
 "cells": [
  {
   "cell_type": "code",
   "execution_count": 1,
   "id": "f4ca442a",
   "metadata": {
    "scrolled": true
   },
   "outputs": [
    {
     "name": "stdout",
     "output_type": "stream",
     "text": [
      "Requirement already satisfied: pymongo in c:\\users\\shree\\anaconda3\\lib\\site-packages (4.6.1)\n",
      "Requirement already satisfied: dnspython<3.0.0,>=1.16.0 in c:\\users\\shree\\anaconda3\\lib\\site-packages (from pymongo) (2.4.2)\n",
      "Note: you may need to restart the kernel to use updated packages.\n"
     ]
    },
    {
     "name": "stderr",
     "output_type": "stream",
     "text": [
      "\n",
      "[notice] A new release of pip is available: 23.3.1 -> 23.3.2\n",
      "[notice] To update, run: python.exe -m pip install --upgrade pip\n"
     ]
    }
   ],
   "source": [
    "pip install pymongo"
   ]
  },
  {
   "cell_type": "code",
   "execution_count": 2,
   "id": "55672bf6",
   "metadata": {},
   "outputs": [
    {
     "ename": "SyntaxError",
     "evalue": "invalid syntax (1351535425.py, line 1)",
     "output_type": "error",
     "traceback": [
      "\u001b[1;36m  Cell \u001b[1;32mIn[2], line 1\u001b[1;36m\u001b[0m\n\u001b[1;33m    Driver to connect python to mongodb\u001b[0m\n\u001b[1;37m           ^\u001b[0m\n\u001b[1;31mSyntaxError\u001b[0m\u001b[1;31m:\u001b[0m invalid syntax\n"
     ]
    }
   ],
   "source": [
    "Driver to connect python to mongodb"
   ]
  },
  {
   "cell_type": "code",
   "execution_count": 3,
   "id": "be6ca4a9",
   "metadata": {},
   "outputs": [],
   "source": [
    "import pymongo"
   ]
  },
  {
   "cell_type": "code",
   "execution_count": 12,
   "id": "db230f68",
   "metadata": {},
   "outputs": [],
   "source": [
    "client=pymongo.MongoClient('mongodb://localhost:27017/')\n"
   ]
  },
  {
   "cell_type": "code",
   "execution_count": 27,
   "id": "dcee4137",
   "metadata": {},
   "outputs": [],
   "source": [
    "client2=pymongo.MongoClient('mongodb://localhost:27017/')"
   ]
  },
  {
   "cell_type": "code",
   "execution_count": 28,
   "id": "639e0867",
   "metadata": {},
   "outputs": [],
   "source": [
    "db=client2[\"parchi\"]"
   ]
  },
  {
   "cell_type": "code",
   "execution_count": 29,
   "id": "aa7be506",
   "metadata": {},
   "outputs": [],
   "source": [
    "collection=db[\"data\"]"
   ]
  },
  {
   "cell_type": "code",
   "execution_count": 30,
   "id": "d45ce3ef",
   "metadata": {},
   "outputs": [
    {
     "data": {
      "text/plain": [
       "Collection(Database(MongoClient(host=['localhost:27017'], document_class=dict, tz_aware=False, connect=True), 'parchi'), 'data')"
      ]
     },
     "execution_count": 30,
     "metadata": {},
     "output_type": "execute_result"
    }
   ],
   "source": [
    "collection"
   ]
  },
  {
   "cell_type": "code",
   "execution_count": 31,
   "id": "490e691f",
   "metadata": {},
   "outputs": [],
   "source": [
    "student_data=db.data"
   ]
  },
  {
   "cell_type": "code",
   "execution_count": 32,
   "id": "dec0c66a",
   "metadata": {},
   "outputs": [],
   "source": [
    "student_id=student_data.insert_one({\"name\":\"chetana\",\"city\":\"pune\"}).inserted_id"
   ]
  },
  {
   "cell_type": "code",
   "execution_count": 13,
   "id": "740cb2c5",
   "metadata": {},
   "outputs": [],
   "source": [
    "db=client[\"chetana123\"]"
   ]
  },
  {
   "cell_type": "code",
   "execution_count": 14,
   "id": "53129fb1",
   "metadata": {},
   "outputs": [],
   "source": [
    "collection=db[\"chetana123\"]"
   ]
  },
  {
   "cell_type": "code",
   "execution_count": 15,
   "id": "9ded7432",
   "metadata": {
    "scrolled": true
   },
   "outputs": [
    {
     "name": "stdout",
     "output_type": "stream",
     "text": [
      "Collection(Database(MongoClient(host=['localhost:27017'], document_class=dict, tz_aware=False, connect=True), 'chetana123'), 'chetana123')\n"
     ]
    }
   ],
   "source": [
    "print(collection)"
   ]
  },
  {
   "cell_type": "markdown",
   "id": "d20da8d6",
   "metadata": {},
   "source": [
    "#### to insert document in collection"
   ]
  },
  {
   "cell_type": "code",
   "execution_count": 16,
   "id": "08f5e50d",
   "metadata": {},
   "outputs": [],
   "source": [
    "student_data=db.student_data"
   ]
  },
  {
   "cell_type": "code",
   "execution_count": 20,
   "id": "00ae226c",
   "metadata": {},
   "outputs": [],
   "source": [
    "student_id=student_data.insert_one({\"name\":\"chetana\",\"city\":\"pune\"}).inserted_id"
   ]
  },
  {
   "cell_type": "code",
   "execution_count": 21,
   "id": "7358d70e",
   "metadata": {},
   "outputs": [
    {
     "name": "stdout",
     "output_type": "stream",
     "text": [
      "659f722ec9c7638ea178ce01\n"
     ]
    }
   ],
   "source": [
    "print(student_id)"
   ]
  },
  {
   "cell_type": "code",
   "execution_count": 22,
   "id": "dacabd54",
   "metadata": {},
   "outputs": [],
   "source": [
    "db=client[\"nagpur_data\"]"
   ]
  },
  {
   "cell_type": "code",
   "execution_count": 24,
   "id": "ea237535",
   "metadata": {
    "scrolled": true
   },
   "outputs": [],
   "source": [
    "data=db.nagpur_data.insert_one({\"name\":\"abc\"}).inserted_id"
   ]
  },
  {
   "cell_type": "markdown",
   "id": "b2227e9b",
   "metadata": {},
   "source": [
    "# database2"
   ]
  },
  {
   "cell_type": "code",
   "execution_count": 25,
   "id": "d970244d",
   "metadata": {},
   "outputs": [],
   "source": [
    "mydb=client[\"Emplyees_data\"]\n",
    "empinfo=mydb.employeeinfo"
   ]
  },
  {
   "cell_type": "code",
   "execution_count": 26,
   "id": "740c2950",
   "metadata": {},
   "outputs": [
    {
     "data": {
      "text/plain": [
       "InsertOneResult(ObjectId('659f743fc9c7638ea178ce03'), acknowledged=True)"
      ]
     },
     "execution_count": 26,
     "metadata": {},
     "output_type": "execute_result"
    }
   ],
   "source": [
    "record={\n",
    "    \"firstname\":\"chetana\",\n",
    "    \"lastname\":\"vasave\",\n",
    "    \"dept\":\"data science\",\n",
    "    \"expereince\":\"3years\"\n",
    "}\n",
    "empinfo.insert_one(record)"
   ]
  },
  {
   "cell_type": "code",
   "execution_count": 41,
   "id": "b7c2f65b",
   "metadata": {},
   "outputs": [],
   "source": [
    "mydb2=client2[\"Sayali\"]\n",
    "data=mydb2.details"
   ]
  },
  {
   "cell_type": "code",
   "execution_count": 34,
   "id": "1a34ca6c",
   "metadata": {},
   "outputs": [
    {
     "data": {
      "text/plain": [
       "InsertOneResult(ObjectId('659f7b61c9c7638ea178ce06'), acknowledged=True)"
      ]
     },
     "execution_count": 34,
     "metadata": {},
     "output_type": "execute_result"
    }
   ],
   "source": [
    "record={\n",
    "    \"firstname\":\"chetana\",\n",
    "    \"lastname\":\"vasave\",\n",
    "    \"dept\":\"data science\",\n",
    "    \"expereince\":\"3years\"\n",
    "}\n",
    "data.insert_one(record)"
   ]
  },
  {
   "cell_type": "code",
   "execution_count": 35,
   "id": "3c868bfd",
   "metadata": {},
   "outputs": [],
   "source": [
    "import json"
   ]
  },
  {
   "cell_type": "code",
   "execution_count": 42,
   "id": "e10d6e14",
   "metadata": {},
   "outputs": [],
   "source": [
    "with open(r\"C:\\Users\\admin\\Desktop\\File Oprations\\data.json\") as file:\n",
    "    data1=json.load(file)\n",
    "    "
   ]
  },
  {
   "cell_type": "code",
   "execution_count": 48,
   "id": "879b8851",
   "metadata": {},
   "outputs": [],
   "source": [
    "mydb3=client2[\"priyanka\"]\n",
    "data=mydb3.details"
   ]
  },
  {
   "cell_type": "code",
   "execution_count": 49,
   "id": "26b1aa49",
   "metadata": {},
   "outputs": [
    {
     "data": {
      "text/plain": [
       "{'emp_details': [{'emp_name': 'Sayli',\n",
       "   'email': 'sayali123@gmail.com',\n",
       "   'job_prtofile': 'data scintist'},\n",
       "  {'emp_name': 'prachi',\n",
       "   'email': 'prachi123@gmail.com',\n",
       "   'job_prtofile': 'dataanalyst'},\n",
       "  {'emp_name': 'Gauri',\n",
       "   'email': 'Gauri123@gmail.com',\n",
       "   'job_prtofile': 'It Engineer'}],\n",
       " '_id': ObjectId('659f7bf9c9c7638ea178ce07')}"
      ]
     },
     "execution_count": 49,
     "metadata": {},
     "output_type": "execute_result"
    }
   ],
   "source": [
    "data1"
   ]
  },
  {
   "cell_type": "code",
   "execution_count": 50,
   "id": "90c8d559",
   "metadata": {},
   "outputs": [
    {
     "data": {
      "text/plain": [
       "InsertOneResult(ObjectId('659f7bf9c9c7638ea178ce07'), acknowledged=True)"
      ]
     },
     "execution_count": 50,
     "metadata": {},
     "output_type": "execute_result"
    }
   ],
   "source": [
    "data.insert_one(data1)"
   ]
  },
  {
   "cell_type": "code",
   "execution_count": null,
   "id": "bc79ce18",
   "metadata": {},
   "outputs": [],
   "source": []
  }
 ],
 "metadata": {
  "kernelspec": {
   "display_name": "Python 3 (ipykernel)",
   "language": "python",
   "name": "python3"
  },
  "language_info": {
   "codemirror_mode": {
    "name": "ipython",
    "version": 3
   },
   "file_extension": ".py",
   "mimetype": "text/x-python",
   "name": "python",
   "nbconvert_exporter": "python",
   "pygments_lexer": "ipython3",
   "version": "3.11.4"
  }
 },
 "nbformat": 4,
 "nbformat_minor": 5
}
